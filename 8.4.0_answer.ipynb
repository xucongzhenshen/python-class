{
 "cells": [
  {
   "cell_type": "markdown",
   "id": "8bd0c281",
   "metadata": {},
   "source": [
    "# 非现实数字乐器作业答案\n",
    "本 notebook 按要求分为多个步骤，每步均有详细注释和代码。"
   ]
  },
  {
   "cell_type": "markdown",
   "id": "b14a1bdc",
   "metadata": {},
   "source": [
    "## Step1 环境准备\n",
    "导入所需库，确保 audio_visualization 已安装。"
   ]
  },
  {
   "cell_type": "code",
   "execution_count": 1,
   "id": "91f65adc",
   "metadata": {},
   "outputs": [
    {
     "ename": "ImportError",
     "evalue": "cannot import name 'plot_waveform' from 'audio_visualization' (d:\\software\\Microsoft VS Code\\Python_learning\\audio_visualization.py)",
     "output_type": "error",
     "traceback": [
      "\u001b[31m---------------------------------------------------------------------------\u001b[39m",
      "\u001b[31mImportError\u001b[39m                               Traceback (most recent call last)",
      "\u001b[36mCell\u001b[39m\u001b[36m \u001b[39m\u001b[32mIn[1]\u001b[39m\u001b[32m, line 4\u001b[39m\n\u001b[32m      2\u001b[39m \u001b[38;5;28;01mimport\u001b[39;00m\u001b[38;5;250m \u001b[39m\u001b[34;01mlibrosa\u001b[39;00m\n\u001b[32m      3\u001b[39m \u001b[38;5;28;01mimport\u001b[39;00m\u001b[38;5;250m \u001b[39m\u001b[34;01mmatplotlib\u001b[39;00m\u001b[34;01m.\u001b[39;00m\u001b[34;01mpyplot\u001b[39;00m\u001b[38;5;250m \u001b[39m\u001b[38;5;28;01mas\u001b[39;00m\u001b[38;5;250m \u001b[39m\u001b[34;01mplt\u001b[39;00m\n\u001b[32m----> \u001b[39m\u001b[32m4\u001b[39m \u001b[38;5;28;01mfrom\u001b[39;00m\u001b[38;5;250m \u001b[39m\u001b[34;01maudio_visualization\u001b[39;00m\u001b[38;5;250m \u001b[39m\u001b[38;5;28;01mimport\u001b[39;00m plot_waveform, plot_waveform_and_spectrum\n\u001b[32m      5\u001b[39m \u001b[38;5;28;01mfrom\u001b[39;00m\u001b[38;5;250m \u001b[39m\u001b[34;01mIPython\u001b[39;00m\u001b[34;01m.\u001b[39;00m\u001b[34;01mdisplay\u001b[39;00m\u001b[38;5;250m \u001b[39m\u001b[38;5;28;01mimport\u001b[39;00m Audio\n\u001b[32m      6\u001b[39m \u001b[38;5;28mprint\u001b[39m(\u001b[33m'\u001b[39m\u001b[33m库导入成功！\u001b[39m\u001b[33m'\u001b[39m)\n",
      "\u001b[31mImportError\u001b[39m: cannot import name 'plot_waveform' from 'audio_visualization' (d:\\software\\Microsoft VS Code\\Python_learning\\audio_visualization.py)"
     ]
    }
   ],
   "source": [
    "import numpy as np\n",
    "import librosa\n",
    "import matplotlib.pyplot as plt\n",
    "from audio_visualization import plot_waveform, plot_waveform_and_spectrum\n",
    "from IPython.display import Audio\n",
    "print('库导入成功！')"
   ]
  },
  {
   "cell_type": "markdown",
   "id": "ad0540bd",
   "metadata": {},
   "source": [
    "## Step2 乐器参数设置\n",
    "定义音符列表、持续时间、采样率和振幅。"
   ]
  },
  {
   "cell_type": "code",
   "execution_count": null,
   "id": "cd99384a",
   "metadata": {},
   "outputs": [],
   "source": [
    "notes = ['C4', 'C#4', 'D4', 'D#4', 'E4', 'F4', 'F#4', 'G4', 'G#4', 'A4', 'A#4', 'B4']\n",
    "duration = 1.0  # 秒\n",
    "sr = 22050  # 采样率\n",
    "amplitude = 0.8  # 振幅"
   ]
  },
  {
   "cell_type": "markdown",
   "id": "66bf3a9e",
   "metadata": {},
   "source": [
    "## Step3 非现实谐波结构设计\n",
    "高阶谐波强度衰减极慢，至少7个谐波。\n",
    "\n",
    "**说明：** 现实乐器高阶谐波能量会迅速衰减，而本设计让高阶谐波依然很强，导致音色极不自然。"
   ]
  },
  {
   "cell_type": "code",
   "execution_count": null,
   "id": "f123e614",
   "metadata": {},
   "outputs": [],
   "source": [
    "harmonics = [1.0, 0.9, 0.85, 0.8, 0.75, 0.7, 0.65]  # 7阶谐波，衰减很慢"
   ]
  },
  {
   "cell_type": "markdown",
   "id": "afbc9018",
   "metadata": {},
   "source": [
    "## Step4 音频信号生成\n",
    "遍历音符，合成信号并归一化。"
   ]
  },
  {
   "cell_type": "code",
   "execution_count": null,
   "id": "7e69e0c2",
   "metadata": {},
   "outputs": [],
   "source": [
    "signals = {}\n",
    "t = np.linspace(0, duration, int(sr*duration), endpoint=False)\n",
    "for note in notes:\n",
    "    f0 = librosa.note_to_hz(note)\n",
    "    signal = np.zeros_like(t)\n",
    "    for i, h in enumerate(harmonics):\n",
    "        signal += h * np.sin(2 * np.pi * f0 * (i+1) * t)\n",
    "    signal = amplitude * signal / np.max(np.abs(signal))\n",
    "    signals[note] = signal"
   ]
  },
  {
   "cell_type": "markdown",
   "id": "1969f85c",
   "metadata": {},
   "source": [
    "## Step5 可视化\n",
    "展示每个音符的时域和频域特征。\n",
    "\n",
    "**分析：** 可视化显示高阶谐波能量很强，频谱中有多个高峰，音色极为尖锐和不自然。"
   ]
  },
  {
   "cell_type": "code",
   "execution_count": null,
   "id": "713310a0",
   "metadata": {},
   "outputs": [],
   "source": [
    "for note in notes:\n",
    "    print(f'可视化: {note}')\n",
    "    plot_waveform_and_spectrum(signals[note], sr, title=f'{note} 非现实乐器波形与频谱')"
   ]
  },
  {
   "cell_type": "markdown",
   "id": "b92d6397",
   "metadata": {},
   "source": [
    "## Step6 音频播放\n",
    "播放每个音符，体验音色。\n",
    "\n",
    "**听感分析：** 该乐器音色极为刺耳、尖锐，远超现实乐器的谐波丰富度，缺乏自然衰减和温和感。"
   ]
  },
  {
   "cell_type": "code",
   "execution_count": null,
   "id": "30f1600e",
   "metadata": {},
   "outputs": [],
   "source": [
    "for note in notes:\n",
    "    print(f'播放: {note}')\n",
    "    display(Audio(signals[note], rate=sr))"
   ]
  },
  {
   "cell_type": "markdown",
   "id": "860566ab",
   "metadata": {},
   "source": [
    "## Step7 分析总结\n",
    "本乐器的谐波结构极不现实，高阶谐波能量过强，导致音色尖锐刺耳。现实乐器由于物理结构和能量损耗，高阶谐波会迅速衰减，无法产生如此丰富的高频成分。可视化和听感都证明了该乐器的非现实性。"
   ]
  }
 ],
 "metadata": {
  "kernelspec": {
   "display_name": "jpy311",
   "language": "python",
   "name": "python3"
  },
  "language_info": {
   "codemirror_mode": {
    "name": "ipython",
    "version": 3
   },
   "file_extension": ".py",
   "mimetype": "text/x-python",
   "name": "python",
   "nbconvert_exporter": "python",
   "pygments_lexer": "ipython3",
   "version": "3.11.13"
  }
 },
 "nbformat": 4,
 "nbformat_minor": 5
}
