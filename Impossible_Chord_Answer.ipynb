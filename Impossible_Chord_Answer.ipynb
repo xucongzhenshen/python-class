{
 "cells": [
  {
   "cell_type": "markdown",
   "id": "f740cee1",
   "metadata": {},
   "source": [
    "# Step 1: 定义不可能的和弦与频率\n",
    "本节将定义C0、C4、C8三个音符，并解释为何这种和弦无法被人类或传统乐器演奏。"
   ]
  },
  {
   "cell_type": "code",
   "execution_count": 1,
   "id": "a3cdabe7",
   "metadata": {},
   "outputs": [
    {
     "ename": "ModuleNotFoundError",
     "evalue": "No module named 'sounddevice'",
     "output_type": "error",
     "traceback": [
      "\u001b[31m---------------------------------------------------------------------------\u001b[39m",
      "\u001b[31mModuleNotFoundError\u001b[39m                       Traceback (most recent call last)",
      "\u001b[36mCell\u001b[39m\u001b[36m \u001b[39m\u001b[32mIn[1]\u001b[39m\u001b[32m, line 5\u001b[39m\n\u001b[32m      3\u001b[39m \u001b[38;5;28;01mimport\u001b[39;00m\u001b[38;5;250m \u001b[39m\u001b[34;01mmatplotlib\u001b[39;00m\u001b[34;01m.\u001b[39;00m\u001b[34;01mpyplot\u001b[39;00m\u001b[38;5;250m \u001b[39m\u001b[38;5;28;01mas\u001b[39;00m\u001b[38;5;250m \u001b[39m\u001b[34;01mplt\u001b[39;00m\n\u001b[32m      4\u001b[39m \u001b[38;5;28;01mimport\u001b[39;00m\u001b[38;5;250m \u001b[39m\u001b[34;01mscipy\u001b[39;00m\u001b[34;01m.\u001b[39;00m\u001b[34;01msignal\u001b[39;00m\n\u001b[32m----> \u001b[39m\u001b[32m5\u001b[39m \u001b[38;5;28;01mimport\u001b[39;00m\u001b[38;5;250m \u001b[39m\u001b[34;01msounddevice\u001b[39;00m\u001b[38;5;250m \u001b[39m\u001b[38;5;28;01mas\u001b[39;00m\u001b[38;5;250m \u001b[39m\u001b[34;01msd\u001b[39;00m\n\u001b[32m      6\u001b[39m \u001b[38;5;28;01mdef\u001b[39;00m\u001b[38;5;250m \u001b[39m\u001b[34mget_note_frequencies\u001b[39m():\n\u001b[32m      7\u001b[39m     \u001b[38;5;66;03m# 国际标准音高频率\u001b[39;00m\n\u001b[32m      8\u001b[39m     notes = {\u001b[33m'\u001b[39m\u001b[33mC0\u001b[39m\u001b[33m'\u001b[39m: \u001b[32m16.35\u001b[39m, \u001b[33m'\u001b[39m\u001b[33mC4\u001b[39m\u001b[33m'\u001b[39m: \u001b[32m261.63\u001b[39m, \u001b[33m'\u001b[39m\u001b[33mC8\u001b[39m\u001b[33m'\u001b[39m: \u001b[32m4186.01\u001b[39m}\n",
      "\u001b[31mModuleNotFoundError\u001b[39m: No module named 'sounddevice'"
     ]
    }
   ],
   "source": [
    "# Step 1: 定义C0、C4、C8的频率，并解释不可能的原因\n",
    "import numpy as np\n",
    "import matplotlib.pyplot as plt\n",
    "import scipy.signal\n",
    "import sounddevice as sd\n",
    "def get_note_frequencies():\n",
    "    # 国际标准音高频率\n",
    "    notes = {'C0': 16.35, 'C4': 261.63, 'C8': 4186.01}\n",
    "    return notes\n",
    "notes = get_note_frequencies()\n",
    "print('C0频率:', notes['C0'], 'Hz')\n",
    "print('C4频率:', notes['C4'], 'Hz')\n",
    "print('C8频率:', notes['C8'], 'Hz')\n",
    "# 物理/生理原因解释见markdown"
   ]
  },
  {
   "cell_type": "markdown",
   "id": "a469f9c2",
   "metadata": {},
   "source": [
    "# Step 2: 生成单个音符信号（含ADSR包络和钢琴音色）\n",
    "本节将为每个音符生成2秒的信号，使用ADSR包络和钢琴音色。"
   ]
  },
  {
   "cell_type": "code",
   "execution_count": null,
   "id": "58e6d5fe",
   "metadata": {},
   "outputs": [],
   "source": [
    "# Step 2: 生成单个音符信号\n",
    "sr = 44100  # 采样率\n",
    "duration = 2.0  # 秒\n",
    "def adsr_envelope(length, sr, attack=0.05, decay=0.2, sustain_level=0.7, release=0.5):\n",
    "    env = np.zeros(length)\n",
    "    a = int(attack * sr)\n",
    "    d = int(decay * sr)\n",
    "    s = int((length/sr - attack - decay - release) * sr)\n",
    "    r = int(release * sr)\n",
    "    # Attack\n",
    "    env[:a] = np.linspace(0, 1, a)\n",
    "    # Decay\n",
    "    env[a:a+d] = np.linspace(1, sustain_level, d)\n",
    "    # Sustain\n",
    "    env[a+d:a+d+s] = sustain_level\n",
    "    # Release\n",
    "    env[a+d+s:] = np.linspace(sustain_level, 0, r)\n",
    "    return env\n",
    "def generate_timbre(freq, sr, duration):\n",
    "    t = np.linspace(0, duration, int(sr*duration), endpoint=False)\n",
    "    # 简单钢琴音色：基频+谐波叠加\n",
    "    signal = np.sin(2*np.pi*freq*t) + 0.5*np.sin(2*np.pi*2*freq*t) + 0.3*np.sin(2*np.pi*3*freq*t)\n",
    "    env = adsr_envelope(len(signal), sr)\n",
    "    return signal * env\n",
    "note_signals = {}\n",
    "for name, freq in notes.items():\n",
    "    note_signals[name] = generate_timbre(freq, sr, duration)\n",
    "    print(f'{name}音符信号已生成')"
   ]
  },
  {
   "cell_type": "markdown",
   "id": "fde7e027",
   "metadata": {},
   "source": [
    "# Step 3: 混合音符并处理淡出\n",
    "本节将动态混合C4（主旋律）与C0、C8（和弦），并在结尾加淡出处理，避免杂音。"
   ]
  },
  {
   "cell_type": "code",
   "execution_count": null,
   "id": "d45b2a62",
   "metadata": {},
   "outputs": [],
   "source": [
    "# Step 3: 混合音符并处理淡出\n",
    "# 动态混合，避免溢出\n",
    "chord = (note_signals['C0'] + note_signals['C8']) / 2\n",
    "melody = note_signals['C4']\n",
    "mix = melody * 0.6 + chord * 0.4\n",
    "# 淡出处理，消除结尾杂音\n",
    "fadeout_len = int(0.3 * sr)\n",
    "fadeout = np.linspace(1, 0, fadeout_len)\n",
    "mix[-fadeout_len:] *= fadeout\n",
    "mix = mix / np.max(np.abs(mix))  # 归一化\n",
    "print('和弦混合与淡出处理完成')"
   ]
  },
  {
   "cell_type": "markdown",
   "id": "43082ce1",
   "metadata": {},
   "source": [
    "# Step 4: 时域波形可视化\n",
    "本节将绘制和弦信号的0.1秒片段，观察多频率叠加后的波形复杂性。"
   ]
  },
  {
   "cell_type": "code",
   "execution_count": null,
   "id": "0e6d4d7c",
   "metadata": {},
   "outputs": [],
   "source": [
    "# Step 4: 时域波形可视化\n",
    "plt.figure(figsize=(10,4))\n",
    "segment = mix[:int(0.1*sr)]\n",
    "plt.plot(segment)\n",
    "plt.title('和弦信号的0.1秒时域波形')\n",
    "plt.xlabel('样本点')\n",
    "plt.ylabel('幅值')\n",
    "plt.grid(True)\n",
    "plt.show()\n",
    "# 注释：可见多频率叠加后波形复杂"
   ]
  },
  {
   "cell_type": "markdown",
   "id": "252443f9",
   "metadata": {},
   "source": [
    "# Step 5: 频域分析（FFT与声谱图）\n",
    "本节将分析和弦的主频成分，并绘制声谱图，验证C0、C4、C8频率均被合成。"
   ]
  },
  {
   "cell_type": "code",
   "execution_count": null,
   "id": "59450f83",
   "metadata": {},
   "outputs": [],
   "source": [
    "# Step 5: 频域分析（FFT与声谱图）\n",
    "# FFT分析\n",
    "fft = np.fft.rfft(mix)\n",
    "freqs = np.fft.rfftfreq(len(mix), 1/sr)\n",
    "plt.figure(figsize=(10,4))\n",
    "plt.plot(freqs, np.abs(fft))\n",
    "plt.title('和弦信号的频谱（FFT）')\n",
    "plt.xlabel('频率 (Hz)')\n",
    "plt.ylabel('幅值')\n",
    "plt.xlim(0, 5000)\n",
    "plt.grid(True)\n",
    "plt.show()\n",
    "# 声谱图\n",
    "plt.figure(figsize=(10,4))\n",
    "plt.specgram(mix, NFFT=2048, Fs=sr, noverlap=1024, cmap='plasma')\n",
    "plt.title('和弦信号的声谱图')\n",
    "plt.xlabel('时间 (秒)')\n",
    "plt.ylabel('频率 (Hz)')\n",
    "plt.colorbar(label='强度')\n",
    "plt.ylim(0, 5000)\n",
    "plt.show()\n",
    "# 注释：可见C0、C4、C8频率均被合成"
   ]
  },
  {
   "cell_type": "markdown",
   "id": "9ff5abbb",
   "metadata": {},
   "source": [
    "# Step 6: 播放和弦并听觉评价\n",
    "本节将播放合成和弦，并描述听感。"
   ]
  },
  {
   "cell_type": "code",
   "execution_count": null,
   "id": "481c53fe",
   "metadata": {},
   "outputs": [],
   "source": [
    "# Step 6: 播放和弦并听觉评价\n",
    "sd.play(mix, sr)\n",
    "sd.wait()\n",
    "# 注释：中频C4最明显，极低C0和极高C8较难分辨，体现人耳频率敏感性"
   ]
  },
  {
   "cell_type": "markdown",
   "id": "356e6f2e",
   "metadata": {},
   "source": [
    "# 作业学习心得\n",
    "\n",
    "## 主要收获\n",
    "\n",
    "1. **深入理解乐音频率可视化原理**  \n",
    "   通过本次作业，我掌握了乐音频率的计算方法，理解了科学音高记谱（SPN）与实际频率的对应关系，并能用编程实现频率的自动生成与分组。\n",
    "\n",
    "2. **提升了数据处理与可视化能力**  \n",
    "   学会了如何筛选人耳可听范围的音符，按八度分组，并用 matplotlib 和 seaborn 绘制分布图，增强了图表的表达力和美观度。\n",
    "\n",
    "3. **体会了乐理知识与编程结合的乐趣**  \n",
    "   通过频率分布图，直观感受到不同八度、不同音高在可听范围内的分布规律，以及标准音高（A4=440Hz）的特殊地位。\n",
    "\n",
    "## 遇到的挑战\n",
    "\n",
    "- 需要处理大量音名和频率，保证排序和分组正确。\n",
    "- 图表元素较多，需合理布局防止标签重叠和信息丢失。\n",
    "- 兼顾美观和信息表达，调整配色和图例显示。\n",
    "\n",
    "## 改进建议\n",
    "\n",
    "- 可以尝试对频率轴使用对数刻度，更好地展示高低频分布。\n",
    "- 增加交互式可视化（如 plotly），提升用户体验。\n",
    "- 深入探索乐音频率与乐理知识的结合，拓展应用场景。\n",
    "\n",
    "## 总结\n",
    "\n",
    "本次作业不仅加深了我对乐音频率和科学记谱的理解，也锻炼了数据处理和可视化能力。希望未来能将这些技能应用到更复杂的音乐分析和音频处理项目中。"
   ]
  }
 ],
 "metadata": {
  "kernelspec": {
   "display_name": "jpy311",
   "language": "python",
   "name": "python3"
  },
  "language_info": {
   "codemirror_mode": {
    "name": "ipython",
    "version": 3
   },
   "file_extension": ".py",
   "mimetype": "text/x-python",
   "name": "python",
   "nbconvert_exporter": "python",
   "pygments_lexer": "ipython3",
   "version": "3.11.13"
  }
 },
 "nbformat": 4,
 "nbformat_minor": 5
}
