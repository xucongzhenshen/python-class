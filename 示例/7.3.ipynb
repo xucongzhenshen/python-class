{
 "cells": [
  {
   "cell_type": "markdown",
   "id": "90519789",
   "metadata": {},
   "source": [
    "# <a id='toc1_'></a>[<span style=\"color:yellow;\">Musical Notes</span>](#toc0_)"
   ]
  },
  {
   "cell_type": "markdown",
   "id": "b68df393",
   "metadata": {},
   "source": [
    "**Table of contents**<a id='toc0_'></a>    \n",
    "- [<span style=\"color:yellow;\">Musical Notes</span>](#toc1_)    \n",
    "- [Step 1: 💁 Scientific Pitch Notation 💁 (SPN)](#toc2_)    \n",
    "  - [Step 1.1: Octave](#toc2_1_)    \n",
    "  - [Step 1.2: Pitch](#toc2_2_)    \n",
    "  - [Step 1.3: SPN](#toc2_3_)    \n",
    "- [Step 2: Import Required Libraries](#toc3_)    \n",
    "  - [Step 2.1: Import core libraries](#toc3_1_)    \n",
    "  - [Step 2.2: Import functions from 😊 our 😊 module](#toc3_2_)    \n",
    "  - [Step 2.3: Configure plotting](#toc3_3_)    \n",
    "- [Step 3: Define Musical Notes and Their Frequencies](#toc4_)    \n",
    "  - [Step 3.1: Create a dictionary](#toc4_1_)    \n",
    "  - [Step 3.2: Note frequencies](#toc4_2_)    \n",
    "  - [Step 3.3: Visualize note frequencies](#toc4_3_)    \n",
    "  - [Step 3.4: Explain key observations](#toc4_4_)    \n",
    "  - [Step 3.5: 💁💁💁 Mathematical Explanation](#toc4_5_)    \n",
    "- [Step 4: 👋 Reflection 👋](#toc5_)    \n",
    "  - [Step 4.1: Why pitch (frequency) dominates](#toc5_1_)    \n",
    "  - [Step 4.2: Why loudness depends on the envelope, not instantaneous amplitude](#toc5_2_)    \n",
    "  - [Step 4.3: Why phase is irrelevant](#toc5_3_)    \n",
    "\n",
    "<!-- vscode-jupyter-toc-config\n",
    "\tnumbering=false\n",
    "\tanchor=true\n",
    "\tflat=false\n",
    "\tminLevel=1\n",
    "\tmaxLevel=6\n",
    "\t/vscode-jupyter-toc-config -->\n",
    "<!-- THIS CELL WILL BE REPLACED ON TOC UPDATE. DO NOT WRITE YOUR TEXT IN THIS CELL -->"
   ]
  },
  {
   "cell_type": "markdown",
   "id": "fc930085",
   "metadata": {},
   "source": [
    "# <a id='toc2_'></a>[Step 1: 💁 Scientific Pitch Notation 💁 (SPN)](#toc0_)"
   ]
  },
  {
   "cell_type": "markdown",
   "id": "60b46f4e",
   "metadata": {},
   "source": [
    "## <a id='toc2_1_'></a>[Step 1.1: Octave](#toc0_)"
   ]
  },
  {
   "cell_type": "markdown",
   "id": "e70bf629",
   "metadata": {},
   "source": [
    "<img src=Image/Scientific_pitch_notation_octaves_of_C.png width=450>"
   ]
  },
  {
   "cell_type": "markdown",
   "id": "ff34f3a2",
   "metadata": {},
   "source": [
    "![](Image/3MiddleOctaves-V3.webp)"
   ]
  },
  {
   "cell_type": "markdown",
   "id": "d05e4137",
   "metadata": {},
   "source": [
    "## <a id='toc2_2_'></a>[Step 1.2: Pitch](#toc0_)"
   ]
  },
  {
   "cell_type": "markdown",
   "id": "d81366a6",
   "metadata": {},
   "source": [
    "<img src='Image/Integer-Circle.001.png' width=400>\n",
    "https://davidkulma.com/musictheory/integers"
   ]
  },
  {
   "cell_type": "markdown",
   "id": "87fa7bd3",
   "metadata": {},
   "source": [
    "## <a id='toc2_3_'></a>[Step 1.3: SPN](#toc0_)"
   ]
  },
  {
   "cell_type": "markdown",
   "id": "44921508",
   "metadata": {},
   "source": [
    "- Scientific Pitch Notation is the most widely used system to define a pitch’s pitch class (the \"letter name,\" e.g., C, D, E) and octave (its \"height,\" e.g., 4, 5). \n",
    "- It solves ambiguity—for example, \"C\" alone could mean a low C or a high C, but \"C4\" specifies exactly one pitch.\n",
    "- SPN has two key parts, plus optional accidentals (sharps/flats) to adjust pitch"
   ]
  },
  {
   "cell_type": "markdown",
   "id": "dddf9bee",
   "metadata": {},
   "source": [
    "<table>\n",
    "  <tr>\n",
    "    <th>Component</th>\n",
    "    <th>Explanation</th>\n",
    "  </tr>\n",
    "  <tr>\n",
    "    <td><strong>Pitch Class</strong></td>\n",
    "    <td>7 basic letter names: C, D, E, F, G, A, B (these repeat in every octave).</td>\n",
    "  </tr>\n",
    "  <tr>\n",
    "    <td><strong>Octave Number</strong></td>\n",
    "    <td>A number (0 to 10+) that labels the octave range. <br>Higher numbers = higher pitch.</td>\n",
    "  </tr>\n",
    "  <tr>\n",
    "    <td><strong>Accidentals</strong></td>\n",
    "    <td>Optional symbols to raise/lower pitch:<br>- ♯ (sharp): raises by 1 half-step (e.g., C♯4)<br>- ♭ (flat): lowers by 1 half-step (e.g., D♭4)<br>- ♮ (natural): cancels a sharp/flat (e.g., E♮5)</td>\n",
    "  </tr>\n",
    "</table>"
   ]
  },
  {
   "cell_type": "markdown",
   "id": "af6d894e",
   "metadata": {},
   "source": [
    "# <a id='toc3_'></a>[Step 2: Import Required Libraries](#toc0_)"
   ]
  },
  {
   "cell_type": "markdown",
   "id": "9520127a",
   "metadata": {},
   "source": [
    "## <a id='toc3_1_'></a>[Step 2.1: Import core libraries](#toc0_)"
   ]
  },
  {
   "cell_type": "code",
   "execution_count": 1,
   "id": "f9668f01",
   "metadata": {},
   "outputs": [
    {
     "ename": "ModuleNotFoundError",
     "evalue": "No module named 'librosa'",
     "output_type": "error",
     "traceback": [
      "\u001b[31m---------------------------------------------------------------------------\u001b[39m",
      "\u001b[31mModuleNotFoundError\u001b[39m                       Traceback (most recent call last)",
      "\u001b[36mCell\u001b[39m\u001b[36m \u001b[39m\u001b[32mIn[1]\u001b[39m\u001b[32m, line 6\u001b[39m\n\u001b[32m      4\u001b[39m \u001b[38;5;28;01mfrom\u001b[39;00m\u001b[38;5;250m \u001b[39m\u001b[34;01mscipy\u001b[39;00m\u001b[34;01m.\u001b[39;00m\u001b[34;01mfft\u001b[39;00m\u001b[38;5;250m \u001b[39m\u001b[38;5;28;01mimport\u001b[39;00m fft, fftfreq\n\u001b[32m      5\u001b[39m \u001b[38;5;28;01mfrom\u001b[39;00m\u001b[38;5;250m \u001b[39m\u001b[34;01mIPython\u001b[39;00m\u001b[34;01m.\u001b[39;00m\u001b[34;01mdisplay\u001b[39;00m\u001b[38;5;250m \u001b[39m\u001b[38;5;28;01mimport\u001b[39;00m Audio\n\u001b[32m----> \u001b[39m\u001b[32m6\u001b[39m \u001b[38;5;28;01mimport\u001b[39;00m\u001b[38;5;250m \u001b[39m\u001b[34;01mlibrosa\u001b[39;00m\n",
      "\u001b[31mModuleNotFoundError\u001b[39m: No module named 'librosa'"
     ]
    }
   ],
   "source": [
    "import numpy as np\n",
    "import matplotlib.pyplot as plt\n",
    "import seaborn as sns\n",
    "from scipy.fft import fft, fftfreq\n",
    "from IPython.display import Audio\n",
    "import librosa  # For converting musical note names to frequencies (uses standard A4=440Hz tuning)"
   ]
  },
  {
   "cell_type": "markdown",
   "id": "dda2e982",
   "metadata": {},
   "source": [
    "## <a id='toc3_2_'></a>[Step 2.2: Import functions from 😊 our 😊 module](#toc0_)"
   ]
  },
  {
   "cell_type": "code",
   "execution_count": null,
   "id": "4f4188dc",
   "metadata": {},
   "outputs": [],
   "source": [
    "from audio_visualization import (\n",
    "    generate_note,\n",
    "    plot_time_segment,\n",
    "    plot_signal_and_fft,\n",
    "    get_note_frequencies,\n",
    "    get_peak_amplitude\n",
    ")"
   ]
  },
  {
   "cell_type": "markdown",
   "id": "54ac4175",
   "metadata": {},
   "source": [
    "## <a id='toc3_3_'></a>[Step 2.3: Configure plotting](#toc0_)"
   ]
  },
  {
   "cell_type": "code",
   "execution_count": null,
   "id": "a0516d86",
   "metadata": {},
   "outputs": [],
   "source": [
    "%matplotlib inline\n",
    "sns.set_style(\"whitegrid\")\n",
    "sns.set_palette(\"husl\")"
   ]
  },
  {
   "cell_type": "markdown",
   "id": "bf862c88",
   "metadata": {},
   "source": [
    "# <a id='toc4_'></a>[Step 3: Define Musical Notes and Their Frequencies](#toc0_)"
   ]
  },
  {
   "cell_type": "markdown",
   "id": "ea53c954",
   "metadata": {},
   "source": [
    "## <a id='toc4_1_'></a>[Step 3.1: Create a dictionary](#toc0_)\n",
    "of common musical notes and their frequencies\n",
    "Using $$A4 = 440$$ Hz as reference (`standard tuning`)"
   ]
  },
  {
   "cell_type": "code",
   "execution_count": null,
   "id": "31811b70",
   "metadata": {},
   "outputs": [],
   "source": [
    "# Define notes of interest and get their frequencies\n",
    "notes_list = ['C4', 'D4', 'E4', 'F4', 'G4', 'A4', 'B4', 'C5', 'D5']\n",
    "notes = get_note_frequencies(notes_list)  # Reuse module function"
   ]
  },
  {
   "cell_type": "markdown",
   "id": "cefe8d55",
   "metadata": {},
   "source": [
    "## <a id='toc4_2_'></a>[Step 3.2: Note frequencies](#toc0_)"
   ]
  },
  {
   "cell_type": "code",
   "execution_count": null,
   "id": "2c653175",
   "metadata": {},
   "outputs": [
    {
     "name": "stdout",
     "output_type": "stream",
     "text": [
      "C4: 261.63 Hz\n",
      "D4: 293.66 Hz\n",
      "E4: 329.63 Hz\n",
      "F4: 349.23 Hz\n",
      "G4: 392.00 Hz\n",
      "A4: 440.00 Hz\n",
      "B4: 493.88 Hz\n",
      "C5: 523.25 Hz\n",
      "D5: 587.33 Hz\n"
     ]
    }
   ],
   "source": [
    "for note, freq in notes.items():\n",
    "    print(f\"{note}: {freq:.2f} Hz\")"
   ]
  },
  {
   "cell_type": "markdown",
   "id": "9eb933b3",
   "metadata": {},
   "source": [
    "## <a id='toc4_3_'></a>[Step 3.3: Visualize note frequencies](#toc0_)\n",
    "A visual representation helps understand the relationship between musical notes and their frequencies."
   ]
  },
  {
   "cell_type": "code",
   "execution_count": null,
   "id": "81529b58",
   "metadata": {},
   "outputs": [
    {
     "data": {
      "image/png": "[encoded data removed]",
      "text/plain": [
       "<Figure size 1000x400 with 1 Axes>"
      ]
     },
     "metadata": {},
     "output_type": "display_data"
    }
   ],
   "source": [
    "freqs_list = list(notes.values())\n",
    "\n",
    "plt.figure(figsize=(10, 4))\n",
    "bars = plt.bar(notes_list, freqs_list, color=sns.color_palette(\"husl\", len(notes)))\n",
    "\n",
    "# Add frequency labels\n",
    "for bar, freq in zip(bars, freqs_list):\n",
    "    plt.text(bar.get_x() + bar.get_width()/2., bar.get_height() + 5,\n",
    "             f'{freq:.1f} Hz', ha='center', va='bottom', fontsize=10)\n",
    "\n",
    "# Highlight A4 reference\n",
    "a4_index = notes_list.index('A4')\n",
    "bars[a4_index].set_color('red')\n",
    "plt.text(a4_index, freqs_list[a4_index] * 1.1, 'Reference', \n",
    "         ha='center', va='bottom', color='red', fontweight='bold')\n",
    "\n",
    "plt.title('Frequencies of Musical Notes (C4 to D5)', fontsize=14, pad=20)\n",
    "plt.xlabel('Musical Note', fontsize=12, labelpad=10)\n",
    "plt.ylabel('Frequency (Hz)', fontsize=12, labelpad=10)\n",
    "plt.ylim(0, max(freqs_list) * 1.1)\n",
    "plt.grid(axis='y', linestyle='--', alpha=0.7)\n",
    "plt.show()"
   ]
  },
  {
   "cell_type": "markdown",
   "id": "fe7e5e80",
   "metadata": {},
   "source": [
    "## <a id='toc4_4_'></a>[Step 3.4: Explain key observations](#toc0_)\n",
    "Highlight important takeaways to reinforce understanding of musical frequencies."
   ]
  },
  {
   "cell_type": "code",
   "execution_count": null,
   "id": "9a9e3b1e",
   "metadata": {},
   "outputs": [
    {
     "name": "stdout",
     "output_type": "stream",
     "text": [
      "\n",
      "Note about the visualization:\n",
      "- Red bar: A4 (440 Hz), the global tuning reference\n",
      "- Frequency increases rightward (C4 → D4 → ... → D5)\n",
      "- Spacing follows musical intervals (logarithmic, not linear)\n"
     ]
    }
   ],
   "source": [
    "print(\"\\nNote about the visualization:\")\n",
    "print(\"- Red bar: A4 (440 Hz), the global tuning reference\")\n",
    "print(\"- Frequency increases rightward (C4 → D4 → ... → D5)\")\n",
    "print(\"- Spacing follows musical intervals (logarithmic, not linear)\")"
   ]
  },
  {
   "cell_type": "markdown",
   "id": "343c8444",
   "metadata": {},
   "source": [
    "## <a id='toc4_5_'></a>[Step 3.5: 💁💁💁 Mathematical Explanation](#toc0_)"
   ]
  },
  {
   "cell_type": "markdown",
   "id": "619ceaa9",
   "metadata": {},
   "source": [
    "Notice that `C5` is exactly double the frequency of `C4` \n",
    "octave relationship: 2× frequency = 1 octave higher\n",
    "\n",
    "Let:\n",
    "- $f_n$ = frequency of a note in octave $n$\n",
    "- $f_{n+k}$ = frequency of the same note $k$ octaves higher\n",
    "The relationship is:$$\\boxed{f_{n+k} = f_n \\times 2^k}$$"
   ]
  },
  {
   "cell_type": "markdown",
   "id": "17a68242",
   "metadata": {},
   "source": [
    "Explanation:\n",
    "- When $k = 1$ (one octave higher), the formula simplifies to \n",
    "$$f_{n+1} = f_n \\times 2,$$\n",
    "which matches the example of $C5 = 2 \\times C4$.\n",
    "- For $k = 2$ (two octaves higher), the frequency quadruples: \n",
    "$$f_{n+2} = f_n \\times 2^2 = f_n \\times 4.$$\n",
    "- For $k = -1$ (one octave lower), the frequency is halved: \n",
    "$$f_{n-1} = f_n \\times 2^{-1} = \\frac{f_n}{2}.$$\n",
    "\n",
    "This exponential relationship is fundamental to music theory and acoustics, defining the `logarithmic spacing of frequencies` in musical scales. \n",
    "\n",
    "For example, if middle C (C4) has a frequency of ~261.63 Hz, then:\n",
    "- C5 (one octave higher) = 261.63 × 2¹ = ~523.25 Hz\n",
    "- C6 (two octaves higher) = 261.63 × 2² = ~1046.50 Hz\n",
    "- C3 (one octave lower) = 261.63 × 2⁻¹ = ~130.81 Hz"
   ]
  },
  {
   "cell_type": "markdown",
   "id": "0a05960c",
   "metadata": {},
   "source": [
    "# <a id='toc5_'></a>[Step 4: 👋 Reflection 👋](#toc0_)"
   ]
  },
  {
   "cell_type": "markdown",
   "id": "bec9fab1",
   "metadata": {},
   "source": [
    "The human auditory system’s selective sensitivity to pitch and loudness, rather than phase or instantaneous oscillations, can be grounded in both `biological filtering` and the `mathematical properties` of sound waves. \n",
    "\n",
    "To unpack this, let’s formalize key concepts:  \n",
    "\n",
    "A sound wave can be mathematically represented as a sum of `sinusoidal components` (via `Fourier analysis`), each with a specific frequency $ f $, amplitude $ A $, and phase $ \\phi $:  \n",
    "\n",
    "$$s(t) = \\sum_{n=1}^{N} A_n \\sin(2\\pi f_n t + \\phi_n)$$\n",
    "\n",
    "Here, \n",
    "\n",
    "- $ t $ is time, \n",
    "- $ A_n $ is the `amplitude` of the $ n $-th component, \n",
    "- $ f_n $ is its frequency, \n",
    "- and $ \\phi_n $ (ranging from $ 0 $ to $ 2\\pi $) is its phase—describing the wave’s starting position in its cycle.  "
   ]
  },
  {
   "cell_type": "markdown",
   "id": "30bf6562",
   "metadata": {},
   "source": [
    "## <a id='toc5_1_'></a>[Step 4.1: Why pitch (frequency) dominates](#toc0_)"
   ]
  },
  {
   "cell_type": "markdown",
   "id": "8acd7316",
   "metadata": {},
   "source": [
    "Pitch perception is tightly linked to the `fundamental frequency` $ f_0 $ of the sound, the lowest frequency in the Fourier series. \n",
    "\n",
    "<img src=Image/structures-outer-ear.webp wid=150>\n",
    "\n",
    "The `cochlea`, acting as a `mechanical Fourier transform`, resonates at specific $ f_n $, converting frequency into neural signals. \n",
    "\n",
    "For musical notes, the perceived pitch corresponds to $ f_0 $, with higher harmonics ($ 2f_0, 3f_0, \\dots $) shaping timbre but not altering the core pitch. \n",
    "\n",
    "This is why a `C4` on a piano and violin, with the same $ f_0 \\approx 261.6 \\, \\text{Hz} $ but different harmonic amplitudes, are recognized as the same note."
   ]
  },
  {
   "cell_type": "markdown",
   "id": "017c9e7b",
   "metadata": {},
   "source": [
    "## <a id='toc5_2_'></a>[Step 4.2: Why loudness depends on the envelope, not instantaneous amplitude](#toc0_)"
   ]
  },
  {
   "cell_type": "markdown",
   "id": "3bf80f59",
   "metadata": {},
   "source": [
    "`Loudness` correlates with the *root-mean-square (RMS) amplitude* of the `envelope`, a smoothed measure of `intensity over time`, rather than the rapid peaks of $ s(t) $. \n",
    "\n",
    "The envelope $ E(t) $ of a sound is the slow-varying magnitude of its amplitude, often computed as:  \n",
    "\n",
    "$$E(t) = \\sqrt{\\frac{1}{T} \\int_{t-T/2}^{t+T/2} s^2(\\tau) \\, d\\tau}$$\n",
    "\n",
    "where $ T $ is a window longer than the period of the highest frequency in $ s(t) $ (e.g., tens of milliseconds). \n",
    "\n",
    "This averaging filters out rapid oscillations (too fast for neurons to track) and captures the overall \"shape\" of the sound—like the attack (quick rise) of a drum hit or the sustained decay of a flute note. \n",
    "\n",
    "Instantaneous amplitude $ |s(t)| $, which fluctuates at the frequency of the wave (e.g., 440 times per second for `A4`), is irrelevant because the auditory system cannot resolve such fast changes."
   ]
  },
  {
   "cell_type": "markdown",
   "id": "228eba35",
   "metadata": {},
   "source": [
    "## <a id='toc5_3_'></a>[Step 4.3: Why phase is irrelevant](#toc0_)"
   ]
  },
  {
   "cell_type": "markdown",
   "id": "d6f8283a",
   "metadata": {},
   "source": [
    "Phase $ \\phi_n $ shifts the timing of peaks and troughs in each sinusoidal component but does not affect $ f_n $ or $ A_n $. \n",
    "\n",
    "For example, two waves with the same $ f $ and $ A $ but phases $ \\phi $ and $ \\phi + \\pi $ (opposite phases) have identical frequency and amplitude envelopes:  \n",
    "\n",
    "$$\n",
    "A \\sin(2\\pi f t + \\phi) \\quad \\text{vs.} \\quad A \\sin(2\\pi f t + \\phi + \\pi) = -A \\sin(2\\pi f t + \\phi)\n",
    "$$\n",
    "\n",
    "Their RMS envelopes are identical, and the cochlea responds equally to both, as it encodes frequency and amplitude, not phase. \n",
    "\n",
    "Since phase does not alter these behaviorally critical features (pitch, loudness, timbre), evolution favored ignoring it.  \n",
    "\n",
    "In short, the auditory system evolved to extract the mathematically stable, behaviorally relevant features—frequency ($ f_n $) and envelope ($ E(t) $)\n",
    "\n",
    "—while discarding phase ($ \\phi_n $) and instantaneous oscillations, optimizing for efficient perception of speech, music, and environmental sounds."
   ]
  }
 ],
 "metadata": {
  "kernelspec": {
   "display_name": "jpy311",
   "language": "python",
   "name": "python3"
  },
  "language_info": {
   "codemirror_mode": {
    "name": "ipython",
    "version": 3
   },
   "file_extension": ".py",
   "mimetype": "text/x-python",
   "name": "python",
   "nbconvert_exporter": "python",
   "pygments_lexer": "ipython3",
   "version": "3.11.13"
  }
 },
 "nbformat": 4,
 "nbformat_minor": 5
}
