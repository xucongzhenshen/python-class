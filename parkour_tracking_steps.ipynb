{
 "cells": [
  {
   "cell_type": "markdown",
   "id": "2f095179",
   "metadata": {},
   "source": [
    "# Parkour Athlete Tracking — 作业实现模板\n",
    "\n",
    "**说明**：本 Notebook 将按照 Step1、Step2… 的结构实现作业要求，对应任务清单包括环境配置、帧预处理、模型配置、视频配置、跟踪系统实现、视频处理流水线、数据记录与结果可视化。"
   ]
  },
  {
   "cell_type": "markdown",
   "id": "8399f4b5",
   "metadata": {},
   "source": [
    "## Step1：环境配置 (10%)"
   ]
  },
  {
   "cell_type": "code",
   "execution_count": 1,
   "id": "fbbb284f",
   "metadata": {},
   "outputs": [
    {
     "name": "stdout",
     "output_type": "stream",
     "text": [
      "OpenCV 版本： 4.10.0\n",
      "NumPy 版本： 2.3.1\n"
     ]
    }
   ],
   "source": [
    "# 在本单元中：\n",
    "# - 检查并导入所需库\n",
    "# - 确认 OpenCV、NumPy、Matplotlib 等是否可用\n",
    "# - 打印库版本，保证环境一致性\n",
    "\n",
    "import cv2\n",
    "import numpy as np\n",
    "import matplotlib.pyplot as plt\n",
    "\n",
    "print('OpenCV 版本：', cv2.__version__)\n",
    "print('NumPy 版本：', np.__version__)\n"
   ]
  },
  {
   "cell_type": "markdown",
   "id": "76f95c61",
   "metadata": {},
   "source": [
    "## Step2：帧预处理 (15%)"
   ]
  },
  {
   "cell_type": "code",
   "execution_count": 2,
   "id": "ee261e42",
   "metadata": {},
   "outputs": [
    {
     "name": "stdout",
     "output_type": "stream",
     "text": [
      "提取帧数：60\n"
     ]
    },
    {
     "name": "stderr",
     "output_type": "stream",
     "text": [
      "d:\\software\\anaconda3\\envs\\jpy311\\Lib\\site-packages\\IPython\\core\\pylabtools.py:170: UserWarning: Glyph 39044 (\\N{CJK UNIFIED IDEOGRAPH-9884}) missing from font(s) DejaVu Sans.\n",
      "  fig.canvas.print_figure(bytes_io, **kw)\n",
      "d:\\software\\anaconda3\\envs\\jpy311\\Lib\\site-packages\\IPython\\core\\pylabtools.py:170: UserWarning: Glyph 22788 (\\N{CJK UNIFIED IDEOGRAPH-5904}) missing from font(s) DejaVu Sans.\n",
      "  fig.canvas.print_figure(bytes_io, **kw)\n",
      "d:\\software\\anaconda3\\envs\\jpy311\\Lib\\site-packages\\IPython\\core\\pylabtools.py:170: UserWarning: Glyph 29702 (\\N{CJK UNIFIED IDEOGRAPH-7406}) missing from font(s) DejaVu Sans.\n",
      "  fig.canvas.print_figure(bytes_io, **kw)\n",
      "d:\\software\\anaconda3\\envs\\jpy311\\Lib\\site-packages\\IPython\\core\\pylabtools.py:170: UserWarning: Glyph 21518 (\\N{CJK UNIFIED IDEOGRAPH-540E}) missing from font(s) DejaVu Sans.\n",
      "  fig.canvas.print_figure(bytes_io, **kw)\n",
      "d:\\software\\anaconda3\\envs\\jpy311\\Lib\\site-packages\\IPython\\core\\pylabtools.py:170: UserWarning: Glyph 30340 (\\N{CJK UNIFIED IDEOGRAPH-7684}) missing from font(s) DejaVu Sans.\n",
      "  fig.canvas.print_figure(bytes_io, **kw)\n",
      "d:\\software\\anaconda3\\envs\\jpy311\\Lib\\site-packages\\IPython\\core\\pylabtools.py:170: UserWarning: Glyph 31532 (\\N{CJK UNIFIED IDEOGRAPH-7B2C}) missing from font(s) DejaVu Sans.\n",
      "  fig.canvas.print_figure(bytes_io, **kw)\n",
      "d:\\software\\anaconda3\\envs\\jpy311\\Lib\\site-packages\\IPython\\core\\pylabtools.py:170: UserWarning: Glyph 19968 (\\N{CJK UNIFIED IDEOGRAPH-4E00}) missing from font(s) DejaVu Sans.\n",
      "  fig.canvas.print_figure(bytes_io, **kw)\n",
      "d:\\software\\anaconda3\\envs\\jpy311\\Lib\\site-packages\\IPython\\core\\pylabtools.py:170: UserWarning: Glyph 24103 (\\N{CJK UNIFIED IDEOGRAPH-5E27}) missing from font(s) DejaVu Sans.\n",
      "  fig.canvas.print_figure(bytes_io, **kw)\n"
     ]
    },
    {
     "data": {
      "image/png": "[encoded data removed]",
      "text/plain": [
       "<Figure size 640x480 with 1 Axes>"
      ]
     },
     "metadata": {},
     "output_type": "display_data"
    }
   ],
   "source": [
    "# 在本单元中：\n",
    "# - 从视频中提取帧\n",
    "# - 对帧进行基本预处理（缩放、灰度化、去噪等）\n",
    "# - 作为后续跟踪模型的输入\n",
    "\n",
    "from pathlib import Path\n",
    "\n",
    "# 示例视频路径（可替换为跑酷运动员视频路径）\n",
    "video_path = ''  # e.g., r\"C:\\\\path\\\\to\\\\parkour.mp4\"\n",
    "\n",
    "# 若未提供视频路径，可以生成一个合成测试视频（简单移动目标）\n",
    "def generate_dummy_video(num_frames=60, size=(480, 640)):\n",
    "    h, w = size\n",
    "    frames = []\n",
    "    pos = np.array([h//3, w//4], dtype=np.float32)\n",
    "    vel = np.array([2.5, 3.5])\n",
    "    for _ in range(num_frames):\n",
    "        img = np.zeros((h, w, 3), dtype=np.uint8)\n",
    "        cv2.circle(img, (int(pos[1]), int(pos[0])), 15, (255, 255, 255), -1)\n",
    "        pos += vel\n",
    "        if pos[0] < 20 or pos[0] > h-20: vel[0] *= -1\n",
    "        if pos[1] < 20 or pos[1] > w-20: vel[1] *= -1\n",
    "        frames.append(img)\n",
    "    return frames\n",
    "\n",
    "frames = []\n",
    "if video_path and Path(video_path).exists():\n",
    "    cap = cv2.VideoCapture(video_path)\n",
    "    ok, frame = cap.read()\n",
    "    while ok:\n",
    "        gray = cv2.cvtColor(frame, cv2.COLOR_BGR2GRAY)\n",
    "        gray = cv2.GaussianBlur(gray, (5,5), 0)\n",
    "        frames.append(gray)\n",
    "        ok, frame = cap.read()\n",
    "    cap.release()\n",
    "else:\n",
    "    frames = [cv2.cvtColor(f, cv2.COLOR_BGR2GRAY) for f in generate_dummy_video()]\n",
    "\n",
    "print(f'提取帧数：{len(frames)}')\n",
    "plt.imshow(frames[0], cmap='gray')\n",
    "plt.title('预处理后的第一帧')\n",
    "plt.axis('off')\n",
    "plt.show()\n"
   ]
  },
  {
   "cell_type": "markdown",
   "id": "60a09885",
   "metadata": {},
   "source": [
    "## Step3：模型配置 (15%)"
   ]
  },
  {
   "cell_type": "code",
   "execution_count": 3,
   "id": "509f363d",
   "metadata": {},
   "outputs": [
    {
     "name": "stdout",
     "output_type": "stream",
     "text": [
      "模型参数已配置\n"
     ]
    }
   ],
   "source": [
    "# 在本单元中：\n",
    "# - 定义或加载跟踪模型（例如 Lucas-Kanade 光流、目标检测模型等）\n",
    "# - 设置模型参数\n",
    "# - 确保可以灵活替换模型\n",
    "\n",
    "# Shi-Tomasi 特征点检测参数\n",
    "feature_params = dict(maxCorners=300, qualityLevel=0.01, minDistance=7, blockSize=7)\n",
    "\n",
    "# Lucas–Kanade 光流参数\n",
    "lk_params = dict(winSize=(15,15), maxLevel=2,\n",
    "                 criteria=(cv2.TERM_CRITERIA_EPS | cv2.TERM_CRITERIA_COUNT, 10, 0.03))\n",
    "\n",
    "print('模型参数已配置')\n"
   ]
  },
  {
   "cell_type": "markdown",
   "id": "298e4f3b",
   "metadata": {},
   "source": [
    "## Step4：视频配置 (10%)"
   ]
  },
  {
   "cell_type": "code",
   "execution_count": 4,
   "id": "f88368dd",
   "metadata": {},
   "outputs": [
    {
     "name": "stdout",
     "output_type": "stream",
     "text": [
      "输出视频路径： /mnt/data/parkour_tracking_output.mp4\n"
     ]
    }
   ],
   "source": [
    "# 在本单元中：\n",
    "# - 定义输出视频路径与编码器\n",
    "# - 设置帧率、分辨率\n",
    "# - 确保输出可播放\n",
    "\n",
    "output_video_path = '/mnt/data/parkour_tracking_output.mp4'\n",
    "\n",
    "h, w = frames[0].shape[:2]\n",
    "fourcc = cv2.VideoWriter_fourcc(*'mp4v')\n",
    "out = cv2.VideoWriter(output_video_path, fourcc, 20.0, (w, h))\n",
    "\n",
    "print('输出视频路径：', output_video_path)\n"
   ]
  },
  {
   "cell_type": "markdown",
   "id": "f4bfa6c9",
   "metadata": {},
   "source": [
    "## Step5：跟踪系统实现 (25%)"
   ]
  },
  {
   "cell_type": "code",
   "execution_count": 5,
   "id": "28693f40",
   "metadata": {},
   "outputs": [
    {
     "name": "stdout",
     "output_type": "stream",
     "text": [
      "跟踪完成，视频已生成。\n"
     ]
    }
   ],
   "source": [
    "# 在本单元中：\n",
    "# - 使用 Lucas–Kanade 光流跟踪检测到的特征点\n",
    "# - 保存每个点的轨迹\n",
    "# - 将轨迹叠加到视频帧上\n",
    "\n",
    "# 初始化\n",
    "p0 = cv2.goodFeaturesToTrack(frames[0], mask=None, **feature_params)\n",
    "mask = np.zeros_like(cv2.cvtColor(frames[0], cv2.COLOR_GRAY2BGR))\n",
    "\n",
    "trajectories = [ [tuple(p.ravel())] for p in p0 ]\n",
    "\n",
    "prev_gray = frames[0].copy()\n",
    "prev_pts = p0.copy()\n",
    "\n",
    "for i in range(1, len(frames)):\n",
    "    frame_gray = frames[i]\n",
    "    next_pts, status, err = cv2.calcOpticalFlowPyrLK(prev_gray, frame_gray, prev_pts, None, **lk_params)\n",
    "    \n",
    "    good_new = next_pts[status.flatten() == 1]\n",
    "    good_old = prev_pts[status.flatten() == 1]\n",
    "    \n",
    "    for j, (new, old) in enumerate(zip(good_new, good_old)):\n",
    "        a, b = new.ravel()\n",
    "        c, d = old.ravel()\n",
    "        mask = cv2.line(mask, (int(a),int(b)), (int(c),int(d)), (0,255,0), 2)\n",
    "    \n",
    "    output = cv2.cvtColor(frame_gray, cv2.COLOR_GRAY2BGR)\n",
    "    output = cv2.add(output, mask)\n",
    "    out.write(output)\n",
    "    \n",
    "    prev_gray = frame_gray.copy()\n",
    "    prev_pts = good_new.reshape(-1,1,2)\n",
    "\n",
    "out.release()\n",
    "print('跟踪完成，视频已生成。')\n"
   ]
  },
  {
   "cell_type": "markdown",
   "id": "b0bd1d7c",
   "metadata": {},
   "source": [
    "## Step6：视频处理流水线 (15%)"
   ]
  },
  {
   "cell_type": "code",
   "execution_count": 6,
   "id": "a7bd0542",
   "metadata": {},
   "outputs": [
    {
     "name": "stdout",
     "output_type": "stream",
     "text": [
      "pipeline 函数已定义，可调用 tracking_pipeline(video_path)。\n"
     ]
    }
   ],
   "source": [
    "# 在本单元中：\n",
    "# - 将前面步骤封装成一个 pipeline 函数\n",
    "# - 方便调用与复用\n",
    "\n",
    "def tracking_pipeline(video_path=None):\n",
    "    # 1. 加载视频或合成序列\n",
    "    if video_path and Path(video_path).exists():\n",
    "        cap = cv2.VideoCapture(video_path)\n",
    "        ok, frame = cap.read()\n",
    "        frames = []\n",
    "        while ok:\n",
    "            gray = cv2.cvtColor(frame, cv2.COLOR_BGR2GRAY)\n",
    "            frames.append(gray)\n",
    "            ok, frame = cap.read()\n",
    "        cap.release()\n",
    "    else:\n",
    "        frames = [cv2.cvtColor(f, cv2.COLOR_BGR2GRAY) for f in generate_dummy_video()]\n",
    "\n",
    "    # 2. 初始化特征点\n",
    "    p0 = cv2.goodFeaturesToTrack(frames[0], mask=None, **feature_params)\n",
    "    prev_gray = frames[0].copy()\n",
    "    prev_pts = p0.copy()\n",
    "    mask = np.zeros_like(cv2.cvtColor(frames[0], cv2.COLOR_GRAY2BGR))\n",
    "\n",
    "    # 3. 输出设置\n",
    "    h, w = frames[0].shape[:2]\n",
    "    out_path = '/mnt/data/pipeline_output.mp4'\n",
    "    out = cv2.VideoWriter(out_path, cv2.VideoWriter_fourcc(*'mp4v'), 20.0, (w, h))\n",
    "\n",
    "    # 4. 跟踪\n",
    "    for i in range(1, len(frames)):\n",
    "        frame_gray = frames[i]\n",
    "        next_pts, status, err = cv2.calcOpticalFlowPyrLK(prev_gray, frame_gray, prev_pts, None, **lk_params)\n",
    "        good_new = next_pts[status.flatten() == 1]\n",
    "        good_old = prev_pts[status.flatten() == 1]\n",
    "        for (new, old) in zip(good_new, good_old):\n",
    "            a,b = new.ravel(); c,d = old.ravel()\n",
    "            mask = cv2.line(mask, (int(a),int(b)), (int(c),int(d)), (255,0,0), 2)\n",
    "        output = cv2.cvtColor(frame_gray, cv2.COLOR_GRAY2BGR)\n",
    "        output = cv2.add(output, mask)\n",
    "        out.write(output)\n",
    "        prev_gray = frame_gray.copy()\n",
    "        prev_pts = good_new.reshape(-1,1,2)\n",
    "\n",
    "    out.release()\n",
    "    return out_path\n",
    "\n",
    "print('pipeline 函数已定义，可调用 tracking_pipeline(video_path)。')\n"
   ]
  },
  {
   "cell_type": "markdown",
   "id": "d68fbf9b",
   "metadata": {},
   "source": [
    "## Step7：数据记录 (5%)"
   ]
  },
  {
   "cell_type": "code",
   "execution_count": 7,
   "id": "46e1aebd",
   "metadata": {},
   "outputs": [],
   "source": [
    "# 在本单元中：\n",
    "# - 将轨迹点保存到文件（CSV / NPY）\n",
    "# - 用于后续分析或可视化\n",
    "\n",
    "import pandas as pd\n",
    "\n",
    "def save_trajectories(trajectories, path='/mnt/data/trajectories.csv'):\n",
    "    data = []\n",
    "    for idx, traj in enumerate(trajectories):\n",
    "        for t, (x,y) in enumerate(traj):\n",
    "            data.append([idx, t, x, y])\n",
    "    df = pd.DataFrame(data, columns=['point_id','frame_id','x','y'])\n",
    "    df.to_csv(path, index=False)\n",
    "    print('轨迹数据已保存：', path)\n",
    "\n",
    "# 示例调用（用 Step5 中的 trajectories）\n",
    "# save_trajectories(trajectories)\n"
   ]
  },
  {
   "cell_type": "markdown",
   "id": "66a4af11",
   "metadata": {},
   "source": [
    "## Step8：结果可视化 (5%)"
   ]
  },
  {
   "cell_type": "code",
   "execution_count": 8,
   "id": "51561abf",
   "metadata": {},
   "outputs": [
    {
     "name": "stderr",
     "output_type": "stream",
     "text": [
      "d:\\software\\anaconda3\\envs\\jpy311\\Lib\\site-packages\\IPython\\core\\pylabtools.py:170: UserWarning: Glyph 22352 (\\N{CJK UNIFIED IDEOGRAPH-5750}) missing from font(s) DejaVu Sans.\n",
      "  fig.canvas.print_figure(bytes_io, **kw)\n",
      "d:\\software\\anaconda3\\envs\\jpy311\\Lib\\site-packages\\IPython\\core\\pylabtools.py:170: UserWarning: Glyph 26631 (\\N{CJK UNIFIED IDEOGRAPH-6807}) missing from font(s) DejaVu Sans.\n",
      "  fig.canvas.print_figure(bytes_io, **kw)\n",
      "d:\\software\\anaconda3\\envs\\jpy311\\Lib\\site-packages\\IPython\\core\\pylabtools.py:170: UserWarning: Glyph 25152 (\\N{CJK UNIFIED IDEOGRAPH-6240}) missing from font(s) DejaVu Sans.\n",
      "  fig.canvas.print_figure(bytes_io, **kw)\n",
      "d:\\software\\anaconda3\\envs\\jpy311\\Lib\\site-packages\\IPython\\core\\pylabtools.py:170: UserWarning: Glyph 26377 (\\N{CJK UNIFIED IDEOGRAPH-6709}) missing from font(s) DejaVu Sans.\n",
      "  fig.canvas.print_figure(bytes_io, **kw)\n",
      "d:\\software\\anaconda3\\envs\\jpy311\\Lib\\site-packages\\IPython\\core\\pylabtools.py:170: UserWarning: Glyph 36712 (\\N{CJK UNIFIED IDEOGRAPH-8F68}) missing from font(s) DejaVu Sans.\n",
      "  fig.canvas.print_figure(bytes_io, **kw)\n",
      "d:\\software\\anaconda3\\envs\\jpy311\\Lib\\site-packages\\IPython\\core\\pylabtools.py:170: UserWarning: Glyph 36857 (\\N{CJK UNIFIED IDEOGRAPH-8FF9}) missing from font(s) DejaVu Sans.\n",
      "  fig.canvas.print_figure(bytes_io, **kw)\n",
      "d:\\software\\anaconda3\\envs\\jpy311\\Lib\\site-packages\\IPython\\core\\pylabtools.py:170: UserWarning: Glyph 28857 (\\N{CJK UNIFIED IDEOGRAPH-70B9}) missing from font(s) DejaVu Sans.\n",
      "  fig.canvas.print_figure(bytes_io, **kw)\n",
      "d:\\software\\anaconda3\\envs\\jpy311\\Lib\\site-packages\\IPython\\core\\pylabtools.py:170: UserWarning: Glyph 20998 (\\N{CJK UNIFIED IDEOGRAPH-5206}) missing from font(s) DejaVu Sans.\n",
      "  fig.canvas.print_figure(bytes_io, **kw)\n",
      "d:\\software\\anaconda3\\envs\\jpy311\\Lib\\site-packages\\IPython\\core\\pylabtools.py:170: UserWarning: Glyph 24067 (\\N{CJK UNIFIED IDEOGRAPH-5E03}) missing from font(s) DejaVu Sans.\n",
      "  fig.canvas.print_figure(bytes_io, **kw)\n"
     ]
    },
    {
     "data": {
      "image/png": "[encoded data removed]",
      "text/plain": [
       "<Figure size 800x600 with 1 Axes>"
      ]
     },
     "metadata": {},
     "output_type": "display_data"
    }
   ],
   "source": [
    "# 在本单元中：\n",
    "# - 可视化轨迹分布、位移统计等结果\n",
    "# - 使用 matplotlib 生成图表\n",
    "\n",
    "all_points = []\n",
    "for traj in trajectories:\n",
    "    all_points.extend(traj)\n",
    "\n",
    "all_points = np.array(all_points)\n",
    "plt.figure(figsize=(8,6))\n",
    "plt.scatter(all_points[:,0], all_points[:,1], s=2, alpha=0.5)\n",
    "plt.gca().invert_yaxis()\n",
    "plt.title('所有轨迹点分布')\n",
    "plt.xlabel('X 坐标')\n",
    "plt.ylabel('Y 坐标')\n",
    "plt.show()\n"
   ]
  }
 ],
 "metadata": {
  "kernelspec": {
   "display_name": "jpy311",
   "language": "python",
   "name": "python3"
  },
  "language_info": {
   "codemirror_mode": {
    "name": "ipython",
    "version": 3
   },
   "file_extension": ".py",
   "mimetype": "text/x-python",
   "name": "python",
   "nbconvert_exporter": "python",
   "pygments_lexer": "ipython3",
   "version": "3.11.13"
  }
 },
 "nbformat": 4,
 "nbformat_minor": 5
}
