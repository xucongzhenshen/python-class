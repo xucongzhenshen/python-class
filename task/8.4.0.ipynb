{
 "cells": [
  {
   "cell_type": "markdown",
   "id": "1862abda",
   "metadata": {},
   "source": [
    "# <span style=color:gold>Building an Unrealistic Digital Instrument: Homework Assignment"
   ]
  },
  {
   "cell_type": "markdown",
   "id": "a9a0be63",
   "metadata": {},
   "source": [
    "# Overview\n",
    "In this assignment, you will create a digital instrument with intentionally unrealistic acoustic properties. \n",
    "\n",
    "By completing this task, you'll explore sound generation principles, harmonic structures, and the differences between digital and acoustic instruments."
   ]
  },
  {
   "cell_type": "markdown",
   "id": "24331185",
   "metadata": {},
   "source": [
    "*Deadline*: Noon this Sunday  \n",
    "*Deliverable*: HTML file exported from your Jupyter Notebook containing all code, outputs, and explanations"
   ]
  },
  {
   "cell_type": "markdown",
   "id": "03d5b6e3",
   "metadata": {},
   "source": [
    "# Prerequisites\n",
    "Install required libraries before starting:\n",
    "```bash\n",
    "pip install numpy librosa ipython\n",
    "```\n",
    "You'll also need the `audio_visualization` module (v16+) provided in class."
   ]
  },
  {
   "cell_type": "markdown",
   "id": "e6568810",
   "metadata": {},
   "source": [
    "# Assignment Tasks"
   ]
  },
  {
   "cell_type": "markdown",
   "id": "600f798f",
   "metadata": {},
   "source": [
    "## Task 1: Set Up Your Workspace\n",
    "Create a new Jupyter Notebook and import the necessary libraries. You'll need:\n",
    "- The `audio_visualization` module\n",
    "- Numerical processing library\n",
    "- Music note handling library\n",
    "- Audio playback tools\n",
    "\n",
    "*Hint: Review the libraries used in our in-class sound visualization exercises.*"
   ]
  },
  {
   "cell_type": "markdown",
   "id": "c42dd632",
   "metadata": {},
   "source": [
    "## Task 2: Define Instrument Parameters\n",
    "Configure your instrument by:\n",
    "1. Creating a list of notes from C4 to B4 (including sharps)\n",
    "2. Setting a note duration (1 second recommended)\n",
    "3. Choosing a standard audio sample rate\n",
    "4. Setting an appropriate amplitude level (0-1 range)"
   ]
  },
  {
   "cell_type": "markdown",
   "id": "0a018220",
   "metadata": {},
   "source": [
    "## Task 3: Design an Unrealistic Harmonic Profile\n",
    "The key to this assignment is creating a harmonic structure that doesn't occur in nature. Design a list of harmonic strengths where:\n",
    "- Higher harmonics (2x, 3x, 4x... the fundamental frequency)\n",
    "- Decay very slowly compared to real instruments\n",
    "- Maintain significant strength even in higher orders (at least 7 harmonics)\n",
    "\n",
    "*Question to answer:* What makes this harmonic profile unrealistic? (1-2 sentences)"
   ]
  },
  {
   "cell_type": "markdown",
   "id": "8d7a7c6d",
   "metadata": {},
   "source": [
    "## Task 4: Generate Audio Signals\n",
    "Write code to generate audio signals for each note by:\n",
    "1. Converting note names to frequencies\n",
    "2. Creating a time array for your signal duration\n",
    "3. Generating a fundamental frequency using a sine wave\n",
    "4. Adding higher harmonics using your unrealistic profile\n",
    "5. Normalizing the signal to prevent distortion\n",
    "6. Storing signals and related data for later use\n",
    "\n",
    "*Hint: Use `np.sin()` for wave generation and remember that harmonics are multiples of the fundamental frequency.*"
   ]
  },
  {
   "cell_type": "markdown",
   "id": "904ca2d6",
   "metadata": {},
   "source": [
    "## Task 5: Visualize the Sound\n",
    "Create visualizations for each note using functions from the `audio_visualization` module:\n",
    "1. Time-domain plots showing amplitude over time\n",
    "2. Combined time/frequency plots showing harmonic structure\n",
    "\n",
    "*Question to answer:* How do these visualizations reveal your instrument's unrealistic properties? (2-3 sentences)"
   ]
  },
  {
   "cell_type": "markdown",
   "id": "a2e5fc7d",
   "metadata": {},
   "source": [
    "## Task 6: Implement Audio Playback\n",
    "Add code to play back each generated note. Listen to the results carefully.\n",
    "\n",
    "*Question to answer:* How does the sound of your instrument differ from familiar acoustic instruments? (2-3 sentences)"
   ]
  },
  {
   "cell_type": "markdown",
   "id": "a45ec697",
   "metadata": {},
   "source": [
    "## Task 7: Analysis\n",
    "Write a 2-3 paragraph analysis explaining:\n",
    "- Specific characteristics that make your instrument unrealistic\n",
    "- Why these characteristics can't exist in physical acoustic instruments\n",
    "- How the visualizations support your conclusions about the instrument's unrealistic nature"
   ]
  },
  {
   "cell_type": "markdown",
   "id": "91a37f3f",
   "metadata": {},
   "source": [
    "# Grading Criteria\n",
    "- Working code that generates, visualizes, and plays all notes (40%)\n",
    "- Correct implementation of an unrealistic harmonic profile (20%)\n",
    "- Thoughtful answers to all questions (25%)\n",
    "- Clear organization and professional presentation (15%)"
   ]
  },
  {
   "cell_type": "markdown",
   "id": "15662600",
   "metadata": {},
   "source": [
    "# Submission\n",
    "Export your completed Jupyter Notebook as an HTML file and submit it to our TA by the deadline.\n",
    "\n",
    "Good luck, and enjoy creating your unique digital instrument!"
   ]
  }
 ],
 "metadata": {
  "kernelspec": {
   "display_name": "jpy311",
   "language": "python",
   "name": "python3"
  },
  "language_info": {
   "name": "python",
   "version": "3.11.13"
  }
 },
 "nbformat": 4,
 "nbformat_minor": 5
}
