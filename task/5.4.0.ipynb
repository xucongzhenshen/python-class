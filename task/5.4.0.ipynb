{
 "cells": [
  {
   "cell_type": "markdown",
   "id": "9bb4e497",
   "metadata": {},
   "source": [
    "# <a id='toc1_'></a>[<span style='color:yellow;'>Wingsuit Flight Motion Tracking Coding Task](#toc0_)"
   ]
  },
  {
   "cell_type": "markdown",
   "id": "b9fbd01a",
   "metadata": {},
   "source": [
    "**Table of contents**<a id='toc0_'></a>    \n",
    "- [<span style='color:yellow;'>Wingsuit Flight Motion Tracking Coding Task](#toc1_)    \n",
    "- [Task Overview](#toc2_)    \n",
    "- [Core Requirements](#toc3_)    \n",
    "  - [**Import Libraries**](#toc3_1_)    \n",
    "  - [**Load Video & Extract Frames**](#toc3_2_)    \n",
    "  - [**Dynamic Motion Tracking with Optical Flow**](#toc3_3_)    \n",
    "  - [**Generate & Display Animation**](#toc3_4_)    \n",
    "  - [**Acknowledgment**](#toc3_5_)    \n",
    "- [Submission Requirements](#toc4_)    \n",
    "- [Grading Criteria](#toc5_)    \n",
    "\n",
    "<!-- vscode-jupyter-toc-config\n",
    "\tnumbering=false\n",
    "\tanchor=true\n",
    "\tflat=false\n",
    "\tminLevel=1\n",
    "\tmaxLevel=6\n",
    "\t/vscode-jupyter-toc-config -->\n",
    "<!-- THIS CELL WILL BE REPLACED ON TOC UPDATE. DO NOT WRITE YOUR TEXT IN THIS CELL -->"
   ]
  },
  {
   "cell_type": "markdown",
   "id": "4c804764",
   "metadata": {},
   "source": [
    "# <a id='toc2_'></a>[Task Overview](#toc0_)\n",
    "You will write a complete Python code from scratch to perform **motion tracking on a wingsuit flight video** using OpenCV’s optical flow (Lucas-Kanade algorithm) and Matplotlib for visualization. \n",
    "\n",
    "The goal is to extract video frames, track movement of the wingsuit pilot, color-code motion speed, and generate an animated analysis. \n",
    "\n",
    "This task will help you practice video processing, feature detection, and dynamic tracking in computer vision."
   ]
  },
  {
   "cell_type": "markdown",
   "id": "f6e77f1b",
   "metadata": {},
   "source": [
    "# <a id='toc3_'></a>[Core Requirements](#toc0_)\n",
    "Your code must include the following 5 key steps (structure your code with clear markdown headings for each step, as in the example):  \n",
    "\n",
    "## <a id='toc3_1_'></a>[**Import Libraries**](#toc0_)\n",
    "   Import all necessary libraries: `cv2` (OpenCV) for video/frame processing, `numpy` for numerical calculations, `matplotlib.pyplot` + `matplotlib.animation` for plotting/animation, `IPython.display.HTML` for animation display, `os` for file size calculation, and `time` for progress tracking.  \n",
    "\n",
    "## <a id='toc3_2_'></a>[**Load Video & Extract Frames**](#toc0_)\n",
    "   - Load a wingsuit video (use the path `Video/Wingsuit.mp4`; assume the `Video` folder exists in your working directory).  \n",
    "   - Extract key video properties: file size (convert to MB), dimensions (width×height), total frames, FPS, duration (seconds/minutes), and codec (decode `cv2.CAP_PROP_FOURCC` to a readable string).  \n",
    "   - Extract up to 90 frames (or all frames if the video has fewer than 90) — store both original color frames and grayscale frames (required for optical flow).  \n",
    "   - Release the video capture object after extraction, print the number of extracted frames, and display the first frame (convert BGR to RGB for correct Matplotlib rendering).  \n",
    "\n",
    "## <a id='toc3_3_'></a>[**Dynamic Motion Tracking with Optical Flow**](#toc0_)\n",
    "   - Define parameters for feature detection (`cv2.goodFeaturesToTrack`): set `maxCorners=200`, `qualityLevel=0.01`, `minDistance=10`, `blockSize=15`.  \n",
    "   - Define parameters for Lucas-Kanade optical flow: `winSize=(25,25)`, `maxLevel=5`, `criteria=(cv2.TERM_CRITERIA_EPS | cv2.TERM_CRITERIA_COUNT, 30, 0.01)`.  \n",
    "   - Track features across frames with **dynamic feature refresh**:  \n",
    "     - Start by detecting initial features from the first grayscale frame.  \n",
    "     - For each subsequent frame, calculate optical flow to track features.  \n",
    "     - If fewer than 50 valid features remain *or* every 5 frames (refresh interval), detect new features and combine them with valid existing ones (limit to 200 total features).  \n",
    "   - Draw color-coded motion vectors:  \n",
    "     - Calculate speed for each feature (Euclidean distance between old/new positions).  \n",
    "     - Use color rules: blue (speed < 5), green (5 ≤ speed < 15), red (speed ≥ 15).  \n",
    "     - Draw arrows with `cv2.arrowedLine` (thickness=2, tip length=0.3) and store annotated frames.  \n",
    "\n",
    "## <a id='toc3_4_'></a>[**Generate & Display Animation**](#toc0_)\n",
    "   - Define an `update` function for the animation: clear the plot, display the current annotated frame (BGR→RGB), add a title showing frame number and speed legend.  \n",
    "   - Create the animation with `matplotlib.animation.FuncAnimation` (match the original video’s FPS for playback speed, enable `blit=True` and `repeat=True`).  \n",
    "   - Display the animation in Jupyter (using `IPython.display.HTML`) and save it as `Video/Wingsuit_Analysis.mp4` (use `libx264` codec for compatibility).  \n",
    "\n",
    "## <a id='toc3_5_'></a>[**Acknowledgment**](#toc0_)\n",
    "   Add a markdown cell stating the video source:  \n",
    "   *\"The video footage is sourced from the YouTube video 'GoPro: Graham Dickinson's Insane Wingsuit Flight - Front Helmet Cam 2 of 3' (URL: https://www.youtube.com/watch?v=kTzwvyzzfjk). This material is used for educational purposes only, with no copyright infringement intended.\"*  "
   ]
  },
  {
   "cell_type": "markdown",
   "id": "636ec6e5",
   "metadata": {},
   "source": [
    "# <a id='toc4_'></a>[Submission Requirements](#toc0_)"
   ]
  },
  {
   "cell_type": "markdown",
   "id": "ac2fbe3b",
   "metadata": {},
   "source": [
    "1. **File Format**: Run your code in a Jupyter Notebook, then export the notebook as an **HTML file** (ensure all plots, animations, and print outputs are visible in the HTML).  \n",
    "2. **Deadline**: Submit the HTML file via email to the `Zhenyi Zhang` by **this Sunday (23:59)**.  \n",
    "3. **Email Subject**: Use the format: `Wingsuit-[Your ID]-[Your Full Name]`.  \n",
    "4. **Code Originality**: Write the code entirely from scratch (do not copy-paste the example code directly). You may refer to library documentation, but your code must reflect your own implementation.  "
   ]
  },
  {
   "cell_type": "markdown",
   "id": "0d0f6ea3",
   "metadata": {},
   "source": [
    "# <a id='toc5_'></a>[Grading Criteria](#toc0_)\n",
    "- Code completeness (all 5 steps implemented correctly: 40%)  \n",
    "- Motion tracking accuracy (valid features tracked, dynamic refresh works: 30%)  \n",
    "- Animation functionality (animation plays smoothly, saves correctly: 20%)  \n",
    "- Code readability (clear comments, markdown headings, organized structure: 10%)"
   ]
  }
 ],
 "metadata": {
  "language_info": {
   "name": "python"
  }
 },
 "nbformat": 4,
 "nbformat_minor": 5
}
