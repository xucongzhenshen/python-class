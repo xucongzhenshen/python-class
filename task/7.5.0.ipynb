{
 "cells": [
  {
   "cell_type": "markdown",
   "id": "8247e0fc",
   "metadata": {},
   "source": [
    "# <span style=color:yellow;>HW Musical Note Frequency Visualization"
   ]
  },
  {
   "cell_type": "markdown",
   "id": "aa95c055",
   "metadata": {},
   "source": [
    "## Objective"
   ]
  },
  {
   "cell_type": "markdown",
   "id": "397185e6",
   "metadata": {},
   "source": [
    "Create a Python script from scratch that generates and visualizes the frequencies of musical notes across multiple octaves, highlighting key features like the audible range, concert pitch (A4 = 440 Hz), and octave groupings. \n",
    "\n",
    "This task will reinforce your understanding of scientific pitch notation (SPN), frequency relationships, and data visualization with `matplotlib`.  "
   ]
  },
  {
   "cell_type": "markdown",
   "id": "d91cb1c1",
   "metadata": {},
   "source": [
    "## Requirements:"
   ]
  },
  {
   "cell_type": "markdown",
   "id": "7d06375b",
   "metadata": {},
   "source": [
    "1. **Generate Musical Notes & Frequencies**:  \n",
    "   - Include all 12 notes in an octave (C, C#, D, D#, E, F, F#, G, G#, A, A#, B) across octaves 1 to 8 (e.g., C1 to B8).  \n",
    "   - Calculate their frequencies using the `librosa.note_to_hz()` function (ensure you install `librosa` first: `pip install librosa`).  \n",
    "   - Filter notes to only include those within the human audible range (20 Hz to 20,000 Hz).  \n",
    "\n",
    "2. **Visualization Specifications**:  \n",
    "   - Create a plot where:  \n",
    "     - The x-axis shows note names in SPN (e.g., C4, D#5).  \n",
    "     - The y-axis shows frequency in Hz (use a linear scale).  \n",
    "   - Use vertical lines to represent each note’s frequency (from y=0 to the note’s frequency).  \n",
    "   - Add markers (e.g., circles) at the top of each vertical line to highlight the frequency value.  \n",
    "   - Color-code lines/markers by octave (e.g., all octave 4 notes share a color).  \n",
    "\n",
    "3. **Key Reference Annotations**:  \n",
    "   - Add horizontal lines and labels for:  \n",
    "     - The lower limit of human hearing (20 Hz).  \n",
    "     - The upper limit of human hearing (20,000 Hz).  \n",
    "     - Concert pitch (A4 = 440 Hz) – use a distinct color (e.g., red) for this.\n",
    "\n",
    "4. **Formatting & Readability**:  \n",
    "   - Include a title (e.g., \"Musical Notes in the Audible Range (20–20,000 Hz)\").  \n",
    "   - Label the x-axis (\"Musical Note (Scientific Pitch Notation)\") and y-axis (\"Frequency (Hz)\").  \n",
    "   - Rotate x-axis labels for readability (since there are many notes).  \n",
    "   - Add a legend that maps colors to octaves (e.g., \"Octave 1\", \"Octave 2\", etc.).  \n",
    "   - Adjust the plot layout to prevent clipping (e.g., use `subplots_adjust()` to add padding).  \n",
    "\n",
    "**Deliverables:**  \n",
    "- A single Python script (`.py` file) with all code written from scratch (no copying/pasting from external sources).  \n",
    "- The script must be self-contained (include comments explaining key steps).  \n",
    "- When run, it should display a clear, labeled plot meeting all specifications.  "
   ]
  },
  {
   "cell_type": "markdown",
   "id": "f6cbc170",
   "metadata": {},
   "source": [
    "## Deadline: \n",
    "Noon (12:00 PM) this coming Sunday.  "
   ]
  },
  {
   "cell_type": "markdown",
   "id": "278a2aa9",
   "metadata": {},
   "source": [
    "## Hints: "
   ]
  },
  {
   "cell_type": "markdown",
   "id": "2a8298d9",
   "metadata": {},
   "source": [
    "- Use `librosa.note_to_hz(note_name)` to convert SPN note names (e.g., \"A4\") to frequencies.  \n",
    "- Sort notes by frequency to ensure they appear in order on the x-axis.  \n",
    "- Use `matplotlib`’s `scatter()` for markers and `plot()` for vertical lines.  \n",
    "- For color-coding, map each octave to a unique color using a palette (e.g., `sns.color_palette()` from `seaborn`).  "
   ]
  },
  {
   "cell_type": "markdown",
   "id": "cd9e63a2",
   "metadata": {},
   "source": [
    "## Evaluation Criteria:"
   ]
  },
  {
   "cell_type": "markdown",
   "id": "86ef140e",
   "metadata": {},
   "source": [
    "- Correct generation and filtering of notes/frequencies.  \n",
    "- Clear, well-labeled visualization with all required elements.  \n",
    "- Code readability (comments, logical structure).  \n",
    "- Adherence to the deadline.  \n",
    "\n",
    "Good luck!"
   ]
  }
 ],
 "metadata": {
  "language_info": {
   "name": "python"
  }
 },
 "nbformat": 4,
 "nbformat_minor": 5
}
